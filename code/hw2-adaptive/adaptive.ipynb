{
 "cells": [
  {
   "cell_type": "code",
   "execution_count": 10,
   "metadata": {},
   "outputs": [],
   "source": [
    "from scipy import fft\n",
    "from scipy.io import wavfile\n",
    "import scipy.signal as ssig\n",
    "import sounddevice as sd\n",
    "import numpy as np\n",
    "import librosa"
   ]
  },
  {
   "cell_type": "code",
   "execution_count": null,
   "metadata": {},
   "outputs": [],
   "source": [
    "wav = wavfile.read(filename=\"hw2assets/collectathon.wav\")"
   ]
  },
  {
   "cell_type": "code",
   "execution_count": 18,
   "metadata": {},
   "outputs": [
    {
     "name": "stdout",
     "output_type": "stream",
     "text": [
      "[-11.5 -11.5]\n"
     ]
    }
   ],
   "source": [
    "print(data)"
   ]
  },
  {
   "cell_type": "code",
   "execution_count": 2,
   "metadata": {},
   "outputs": [
    {
     "name": "stdout",
     "output_type": "stream",
     "text": [
      "Mono\n"
     ]
    }
   ],
   "source": [
    "wav, sample_rate = librosa.load(path=\"hw2assets/collectathon.wav\", mono=True, dtype=np.float32)\n",
    "if wav.ndim == 1:\n",
    "    print(\"Mono\")\n",
    "else:\n",
    "    print(\"Stereo\")"
   ]
  },
  {
   "cell_type": "code",
   "execution_count": 3,
   "metadata": {},
   "outputs": [],
   "source": [
    "sd.play(data=wav, samplerate=sample_rate)\n",
    "sd.sleep(2000) # sleep for 2 seconds to just test play\n",
    "sd.stop() # stop play once sleep is done."
   ]
  },
  {
   "cell_type": "code",
   "execution_count": 4,
   "metadata": {},
   "outputs": [],
   "source": [
    "blockSizes = [64] #, 256, 512, 1024, 4096]\n",
    "\n",
    "low_bin = None\n",
    "med_bin = None\n",
    "high_bin = None"
   ]
  },
  {
   "cell_type": "code",
   "execution_count": 5,
   "metadata": {},
   "outputs": [],
   "source": [
    "#FFT"
   ]
  },
  {
   "cell_type": "code",
   "execution_count": 6,
   "metadata": {},
   "outputs": [],
   "source": [
    "#Filter"
   ]
  },
  {
   "cell_type": "code",
   "execution_count": null,
   "metadata": {},
   "outputs": [
    {
     "name": "stdout",
     "output_type": "stream",
     "text": [
      "Playing audio with block size: 64\n"
     ]
    }
   ],
   "source": [
    "for blockSize in blockSizes:\n",
    "    # Call FFT and Filter, then sum them together (avg? rms? peak?)\n",
    "    # Combine some how that makes sense from energy perspective\n",
    "    fft.irf\n",
    "    \n",
    "    print(f\"Playing audio with block size: {blockSize}\")\n",
    "    sd.play(data=wav_blocks, samplerate=sample_rate)\n",
    "    wavfile.wr\n",
    "    # sd.sleep(2000)\n",
    "    # sd.stop()"
   ]
  }
 ],
 "metadata": {
  "kernelspec": {
   "display_name": ".venv",
   "language": "python",
   "name": "python3"
  },
  "language_info": {
   "codemirror_mode": {
    "name": "ipython",
    "version": 3
   },
   "file_extension": ".py",
   "mimetype": "text/x-python",
   "name": "python",
   "nbconvert_exporter": "python",
   "pygments_lexer": "ipython3",
   "version": "3.12.1"
  }
 },
 "nbformat": 4,
 "nbformat_minor": 2
}
