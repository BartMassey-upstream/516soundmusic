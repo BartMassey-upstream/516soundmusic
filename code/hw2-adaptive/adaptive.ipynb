{
 "cells": [
  {
   "cell_type": "code",
   "execution_count": 129,
   "metadata": {},
   "outputs": [],
   "source": [
    "from scipy import fft\n",
    "from scipy.io import wavfile\n",
    "from scipy.signal import butter, lfilter, windows\n",
    "import sounddevice as sd\n",
    "import numpy as np\n",
    "import librosa"
   ]
  },
  {
   "cell_type": "code",
   "execution_count": 130,
   "metadata": {},
   "outputs": [],
   "source": [
    "max16 = 32767\n",
    "\n",
    "# Bands\n",
    "mid = 100\n",
    "hi = 400"
   ]
  },
  {
   "cell_type": "code",
   "execution_count": 131,
   "metadata": {},
   "outputs": [],
   "source": [
    "rate, wav = wavfile.read(filename=\"hw2assets/collectathon.wav\")\n",
    "\n",
    "# To mono if need be\n",
    "wav = (wav / 32768).astype(np.float32).transpose()\n",
    "if wav.ndim == 2:\n",
    "    wav = (wav[0] + wav[1]) / 2\n",
    "else:\n",
    "    assert wav.ndim == 1"
   ]
  },
  {
   "cell_type": "code",
   "execution_count": 132,
   "metadata": {},
   "outputs": [],
   "source": [
    "# Only use the first 10 seconds to mess with to make this all a bit faster\n",
    "duration_seconds = 10\n",
    "num_samples = rate *duration_seconds\n",
    "wav = wav[:num_samples]"
   ]
  },
  {
   "cell_type": "code",
   "execution_count": 133,
   "metadata": {},
   "outputs": [],
   "source": [
    "sd.play(data=wav, samplerate=rate)\n",
    "sd.sleep(2000) # sleep for 2 seconds to just test play\n",
    "sd.stop() # stop play once sleep is done."
   ]
  },
  {
   "cell_type": "code",
   "execution_count": 134,
   "metadata": {},
   "outputs": [],
   "source": [
    "blockSizes = [2, 4, 8, 16, 32, 64, 128, 256, 512, 1024, 2048, 4096]"
   ]
  },
  {
   "cell_type": "code",
   "execution_count": 135,
   "metadata": {},
   "outputs": [],
   "source": [
    "#FFT - blockSize passed in since we're doing a lot of them.\n",
    "def do_fft(wav: any, blockSize: int) -> any:\n",
    "    r = len(wav) % blockSize\n",
    "    if r > 0:\n",
    "        wav = np.append(wav, np.zeros(blockSize - r))\n",
    "    blocks = np.array_split(wav, len(wav) // blockSize)\n",
    "    \n",
    "    # FFT with Blackman-Harris window\n",
    "    window = windows.blackmanharris(blockSize, sym=False)\n",
    "    freqs = np.array([fft.rfft(window * b) for b in blocks])\n",
    "    \n",
    "    # Frequency bands\n",
    "    bin_width = rate / blockSize / 2\n",
    "    bin_mid = max(1, round(mid / bin_width))  # Avoid zero index\n",
    "    bin_hi = max(bin_mid + 1, round(hi / bin_width))  # Ensure bin_hi > bin_mid\n",
    "    \n",
    "    bands = [\n",
    "        [\n",
    "            np.sum(np.abs(fs[:bin_mid])),\n",
    "            np.sum(np.abs(fs[bin_mid:bin_hi])),\n",
    "            np.sum(np.abs(fs[bin_hi:]))\n",
    "        ]\n",
    "        for fs in freqs\n",
    "    ]\n",
    "    return bands, freqs"
   ]
  },
  {
   "cell_type": "code",
   "execution_count": 136,
   "metadata": {},
   "outputs": [],
   "source": [
    "#Filter\n",
    "def do_filters(wav, rate):\n",
    "    # Define filters\n",
    "    low_b, low_a = butter(N=4, Wn=mid / (rate / 2), btype='low')\n",
    "    mid_b, mid_a = butter(N=4, Wn=[mid / (rate / 2), hi / (rate / 2)], btype='band')\n",
    "    high_b, high_a = butter(N=4, Wn=hi / (rate / 2), btype='high')\n",
    "    \n",
    "    # Apply filters\n",
    "    low_filtered = lfilter(low_b, low_a, wav)\n",
    "    mid_filtered = lfilter(mid_b, mid_a, wav)\n",
    "    high_filtered = lfilter(high_b, high_a, wav)\n",
    "    \n",
    "    return low_filtered, mid_filtered, high_filtered"
   ]
  },
  {
   "cell_type": "code",
   "execution_count": null,
   "metadata": {},
   "outputs": [],
   "source": [
    "for blockSize in blockSizes:\n",
    "    \n",
    "    wav_fft_bands, wav_fft_freqs = do_fft(wav, blockSize=blockSize)\n",
    "    \n",
    "    # avg the energies from each band back from fft\n",
    "    avg_low_energy = np.mean([band[0] for band in wav_fft_bands])\n",
    "    avg_mid_energy = np.mean([band[1] for band in wav_fft_bands])\n",
    "    avg_high_energy = np.mean([band[2] for band in wav_fft_bands])\n",
    "    \n",
    "    # Apply a butter and lfilter using bands previously set at start\n",
    "    low_filtered, mid_filtered, high_filtered = do_filters(wav, rate)\n",
    "    \n",
    "    # identify the rms for each filter to be used to equalize the energy\n",
    "    low_rms = np.sqrt(np.mean(low_filtered**2))\n",
    "    mid_rms = np.sqrt(np.mean(mid_filtered**2))\n",
    "    high_rms = np.sqrt(np.mean(high_filtered**2))\n",
    "    \n",
    "    # with each rms, adjust the filtered data to equalize the energy\n",
    "    if low_rms != 0:\n",
    "        low_filtered *= (avg_low_energy / low_rms)\n",
    "    else:\n",
    "        low_filtered = 0\n",
    "    if mid_rms != 0:\n",
    "        mid_filtered *= (avg_mid_energy / mid_rms)\n",
    "    else:\n",
    "        mid_filtered = 0\n",
    "    if high_rms != 0:\n",
    "        high_filtered *= (avg_high_energy / high_rms)\n",
    "    else:\n",
    "        high_filtered = 0\n",
    "    \n",
    "    # Combine the 3 filtered freqs.\n",
    "    combined_wav = low_filtered + mid_filtered + high_filtered\n",
    "    \n",
    "    # Convert from float to int16 for .wav file\n",
    "    if combined_wav.dtype == np.float64 or combined_wav.dtype == np.float32:\n",
    "        combined_wav = combined_wav / np.max(np.abs(combined_wav))\n",
    "        combined_wav = (combined_wav * max16).astype(np.int16)\n",
    "\n",
    "    # If it managed to get back into more than 1 dim, fix it. This happened\n",
    "    # infrequently, but noticed the bug\n",
    "    if combined_wav.ndim == 2:\n",
    "        combined_wav = (combined_wav[0] + combined_wav[1]) / 2\n",
    "    \n",
    "    # print(f\"Playing audio with block size: {blockSize}\")\n",
    "    # sd.play(data=combined_wav, samplerate=rate)\n",
    "    # sd.sleep(3000)\n",
    "    # sd.stop()\n",
    "    print(f\"Writing .wav audio with block size: {blockSize}\")\n",
    "    wavfile.write(filename=f\"./hw2assets/collectathon-{blockSize}-{mid}_{hi}-10sec.wav\", rate=rate, data=combined_wav)\n",
    "    "
   ]
  }
 ],
 "metadata": {
  "kernelspec": {
   "display_name": ".venv",
   "language": "python",
   "name": "python3"
  },
  "language_info": {
   "codemirror_mode": {
    "name": "ipython",
    "version": 3
   },
   "file_extension": ".py",
   "mimetype": "text/x-python",
   "name": "python",
   "nbconvert_exporter": "python",
   "pygments_lexer": "ipython3",
   "version": "3.12.2"
  }
 },
 "nbformat": 4,
 "nbformat_minor": 2
}
