{
 "cells": [
  {
   "cell_type": "code",
   "execution_count": 1,
   "metadata": {},
   "outputs": [],
   "source": [
    "from scipy.fft import rfft, irfft\n",
    "import scipy.signal as ssig\n",
    "import sounddevice as sd\n",
    "import numpy as np\n",
    "import librosa"
   ]
  },
  {
   "cell_type": "code",
   "execution_count": null,
   "metadata": {},
   "outputs": [],
   "source": [
    "wav, sample_rate = librosa.load(path=\"hw2assets/collectathon.wav\", mono=True, dtype=np.float32)\n",
    "if wav.ndim == 1:\n",
    "    print(\"Mono\")\n",
    "else:\n",
    "    print(\"Stereo\")"
   ]
  },
  {
   "cell_type": "code",
   "execution_count": 3,
   "metadata": {},
   "outputs": [],
   "source": [
    "sd.play(data=wav, samplerate=sample_rate)\n",
    "sd.sleep(2000) # sleep for 2 seconds to just test play\n",
    "sd.stop() # stop play once sleep is done."
   ]
  },
  {
   "cell_type": "code",
   "execution_count": 4,
   "metadata": {},
   "outputs": [
    {
     "name": "stdout",
     "output_type": "stream",
     "text": [
      "Playing audio with block size: 64\n"
     ]
    }
   ],
   "source": [
    "blockSizes = [64] #, 256, 512, 1024, 4096]\n",
    "\n",
    "for blockSize in blockSizes:\n",
    "\n",
    "    print(f\"Playing audio with block size: {blockSize}\")\n",
    "    # sd.play(wav_blocks, samplerate=sample_rate)\n",
    "    # sd.sleep(2000)\n",
    "    # sd.stop()"
   ]
  }
 ],
 "metadata": {
  "kernelspec": {
   "display_name": ".venv",
   "language": "python",
   "name": "python3"
  },
  "language_info": {
   "codemirror_mode": {
    "name": "ipython",
    "version": 3
   },
   "file_extension": ".py",
   "mimetype": "text/x-python",
   "name": "python",
   "nbconvert_exporter": "python",
   "pygments_lexer": "ipython3",
   "version": "3.12.1"
  }
 },
 "nbformat": 4,
 "nbformat_minor": 2
}
